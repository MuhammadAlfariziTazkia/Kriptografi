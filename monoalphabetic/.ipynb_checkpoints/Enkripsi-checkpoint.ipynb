{
 "cells": [
  {
   "cell_type": "code",
   "execution_count": 1,
   "metadata": {},
   "outputs": [],
   "source": [
    "alphabet = [\n",
    "    'A', \n",
    "    'B', \n",
    "    'C', \n",
    "    'D', \n",
    "    'E', \n",
    "    'F', \n",
    "    'G', \n",
    "    'H', \n",
    "    'I', \n",
    "    'J', \n",
    "    'K', \n",
    "    'L', \n",
    "    'M', \n",
    "    'N', \n",
    "    'O', \n",
    "    'P', \n",
    "    'Q', \n",
    "    'R', \n",
    "    'S', \n",
    "    'T', \n",
    "    'U', \n",
    "    'V',\n",
    "    'W',\n",
    "    'X',\n",
    "    'Y',\n",
    "    'Z',\n",
    "]"
   ]
  },
  {
   "cell_type": "code",
   "execution_count": 2,
   "metadata": {},
   "outputs": [
    {
     "name": "stdout",
     "output_type": "stream",
     "text": [
      "26\n"
     ]
    }
   ],
   "source": [
    "print(len(alphabet))"
   ]
  },
  {
   "cell_type": "code",
   "execution_count": 8,
   "metadata": {},
   "outputs": [
    {
     "name": "stdout",
     "output_type": "stream",
     "text": [
      "Rizqi Tampan. Gk paKe ,\n"
     ]
    }
   ],
   "source": [
    "plain_text = \"\"\n",
    "with open('plaintext.txt', 'r') as file:\n",
    "    for sentence in file:\n",
    "        plain_text += sentence\n",
    "        \n",
    "print(plain_text)"
   ]
  },
  {
   "cell_type": "code",
   "execution_count": 18,
   "metadata": {},
   "outputs": [
    {
     "name": "stdout",
     "output_type": "stream",
     "text": [
      "RIZQITAMPAN.GKPAKE,\n"
     ]
    }
   ],
   "source": [
    "plain_text = plain_text.upper().replace(\" \", \"\").replace(\"\\n\", \"\")\n",
    "print(plain_text)"
   ]
  },
  {
   "cell_type": "code",
   "execution_count": 24,
   "metadata": {},
   "outputs": [
    {
     "name": "stdout",
     "output_type": "stream",
     "text": [
      "RIZQITAMPANGKPAKE\n"
     ]
    }
   ],
   "source": [
    "clean_plain_text = \"\"\n",
    "\n",
    "for char in plain_text:\n",
    "    if char in alphabet:\n",
    "        clean_plain_text += char\n",
    "\n",
    "print(clean_plain_text)"
   ]
  },
  {
   "cell_type": "code",
   "execution_count": 31,
   "metadata": {},
   "outputs": [
    {
     "name": "stdout",
     "output_type": "stream",
     "text": [
      "Masukan Kata Pembangkit: i want you to the bone\n"
     ]
    }
   ],
   "source": [
    "kata_pembangkit = input(\"Masukan Kata Pembangkit: \")"
   ]
  },
  {
   "cell_type": "code",
   "execution_count": 32,
   "metadata": {},
   "outputs": [
    {
     "name": "stdout",
     "output_type": "stream",
     "text": [
      "IWANTYOUTOTHEBONE\n"
     ]
    }
   ],
   "source": [
    "kata_pembangkit = kata_pembangkit.upper().replace(\" \", \"\")\n",
    "print(kata_pembangkit)"
   ]
  },
  {
   "cell_type": "code",
   "execution_count": 33,
   "metadata": {},
   "outputs": [
    {
     "name": "stdout",
     "output_type": "stream",
     "text": [
      "IWANTYOUTOTHEBONE\n"
     ]
    }
   ],
   "source": [
    "clean_kata_pembangkit = \"\"\n",
    "\n",
    "for char in kata_pembangkit:\n",
    "    if char in alphabet:\n",
    "        clean_kata_pembangkit += char\n",
    "\n",
    "print(clean_kata_pembangkit)"
   ]
  },
  {
   "cell_type": "code",
   "execution_count": 35,
   "metadata": {},
   "outputs": [
    {
     "name": "stdout",
     "output_type": "stream",
     "text": [
      "IWANTYOUHEBCDFGJKLMPQRSVXZ\n"
     ]
    }
   ],
   "source": [
    "key = \"\"\n",
    "\n",
    "for char in clean_kata_pembangkit:\n",
    "    if char not in key:\n",
    "        key += char\n",
    "\n",
    "for char in alphabet:\n",
    "    if char not in key:\n",
    "        key += char\n",
    "\n",
    "print(key)"
   ]
  },
  {
   "cell_type": "code",
   "execution_count": 36,
   "metadata": {},
   "outputs": [
    {
     "ename": "SyntaxError",
     "evalue": "invalid syntax (<ipython-input-36-0dbfeaabe021>, line 1)",
     "output_type": "error",
     "traceback": [
      "\u001b[1;36m  File \u001b[1;32m\"<ipython-input-36-0dbfeaabe021>\"\u001b[1;36m, line \u001b[1;32m1\u001b[0m\n\u001b[1;33m    cipher_text:\u001b[0m\n\u001b[1;37m                ^\u001b[0m\n\u001b[1;31mSyntaxError\u001b[0m\u001b[1;31m:\u001b[0m invalid syntax\n"
     ]
    }
   ],
   "source": [
    "cipher_text:\n",
    "#     for char in clean_plain_text:\n",
    "        for char in range(alphabet):\n",
    "            print(char)"
   ]
  },
  {
   "cell_type": "code",
   "execution_count": null,
   "metadata": {},
   "outputs": [],
   "source": []
  }
 ],
 "metadata": {
  "kernelspec": {
   "display_name": "Python 3",
   "language": "python",
   "name": "python3"
  },
  "language_info": {
   "codemirror_mode": {
    "name": "ipython",
    "version": 3
   },
   "file_extension": ".py",
   "mimetype": "text/x-python",
   "name": "python",
   "nbconvert_exporter": "python",
   "pygments_lexer": "ipython3",
   "version": "3.8.5"
  }
 },
 "nbformat": 4,
 "nbformat_minor": 4
}
