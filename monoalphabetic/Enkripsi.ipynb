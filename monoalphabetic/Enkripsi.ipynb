{
 "cells": [
  {
   "cell_type": "code",
   "execution_count": 14,
   "metadata": {},
   "outputs": [],
   "source": [
    "alphabet = [\n",
    "    'A', \n",
    "    'B', \n",
    "    'C', \n",
    "    'D', \n",
    "    'E', \n",
    "    'F', \n",
    "    'G', \n",
    "    'H', \n",
    "    'I', \n",
    "    'J', \n",
    "    'K', \n",
    "    'L', \n",
    "    'M', \n",
    "    'N', \n",
    "    'O', \n",
    "    'P', \n",
    "    'Q', \n",
    "    'R', \n",
    "    'S', \n",
    "    'T', \n",
    "    'U', \n",
    "    'V',\n",
    "    'W',\n",
    "    'X',\n",
    "    'Y',\n",
    "    'Z',\n",
    "]"
   ]
  },
  {
   "cell_type": "code",
   "execution_count": 15,
   "metadata": {},
   "outputs": [
    {
     "name": "stdout",
     "output_type": "stream",
     "text": [
      "26\n"
     ]
    }
   ],
   "source": [
    "print(len(alphabet))"
   ]
  },
  {
   "cell_type": "code",
   "execution_count": 25,
   "metadata": {},
   "outputs": [
    {
     "name": "stdout",
     "output_type": "stream",
     "text": [
      "Armand Maulana merupakan vokalis Gigi.\n",
      "Meskipun ia merupakan vokalis Gigi, bukan berarti Armand Maulana merupakan seorang dokter gigi.\n",
      "Perlu diingat!!! Konteks dari Gigi sendiri tidak pula terarah pada istri Raffi Ahmad.\n"
     ]
    }
   ],
   "source": [
    "plain_text = \"\"\n",
    "with open('plaintext.txt', 'r') as file:\n",
    "    for sentence in file:\n",
    "        plain_text += sentence\n",
    "        \n",
    "print(plain_text)"
   ]
  },
  {
   "cell_type": "code",
   "execution_count": 26,
   "metadata": {},
   "outputs": [
    {
     "name": "stdout",
     "output_type": "stream",
     "text": [
      "ARMANDMAULANAMERUPAKANVOKALISGIGI.MESKIPUNIAMERUPAKANVOKALISGIGI,BUKANBERARTIARMANDMAULANAMERUPAKANSEORANGDOKTERGIGI.PERLUDIINGAT!!!KONTEKSDARIGIGISENDIRITIDAKPULATERARAHPADAISTRIRAFFIAHMAD.\n"
     ]
    }
   ],
   "source": [
    "plain_text = plain_text.upper().replace(\" \", \"\").replace(\"\\n\", \"\")\n",
    "print(plain_text)"
   ]
  },
  {
   "cell_type": "code",
   "execution_count": 27,
   "metadata": {},
   "outputs": [
    {
     "name": "stdout",
     "output_type": "stream",
     "text": [
      "ARMANDMAULANAMERUPAKANVOKALISGIGIMESKIPUNIAMERUPAKANVOKALISGIGIBUKANBERARTIARMANDMAULANAMERUPAKANSEORANGDOKTERGIGIPERLUDIINGATKONTEKSDARIGIGISENDIRITIDAKPULATERARAHPADAISTRIRAFFIAHMAD\n"
     ]
    }
   ],
   "source": [
    "clean_plain_text = \"\"\n",
    "\n",
    "for char in plain_text:\n",
    "    if char in alphabet:\n",
    "        clean_plain_text += char\n",
    "\n",
    "print(clean_plain_text)"
   ]
  },
  {
   "cell_type": "code",
   "execution_count": 28,
   "metadata": {},
   "outputs": [
    {
     "name": "stdout",
     "output_type": "stream",
     "text": [
      "Masukan Kata Pembangkit: budi setiadi merupakan guru saya. Apakah di masih mengajar sampai sekarang? tolong beri saya info!\n"
     ]
    }
   ],
   "source": [
    "kata_pembangkit = input(\"Masukan Kata Pembangkit: \")"
   ]
  },
  {
   "cell_type": "code",
   "execution_count": 29,
   "metadata": {},
   "outputs": [
    {
     "name": "stdout",
     "output_type": "stream",
     "text": [
      "BUDISETIADIMERUPAKANGURUSAYA.APAKAHDIMASIHMENGAJARSAMPAISEKARANG?TOLONGBERISAYAINFO!\n"
     ]
    }
   ],
   "source": [
    "kata_pembangkit = kata_pembangkit.upper().replace(\" \", \"\")\n",
    "print(kata_pembangkit)"
   ]
  },
  {
   "cell_type": "code",
   "execution_count": 30,
   "metadata": {},
   "outputs": [
    {
     "name": "stdout",
     "output_type": "stream",
     "text": [
      "BUDISETIADIMERUPAKANGURUSAYAAPAKAHDIMASIHMENGAJARSAMPAISEKARANGTOLONGBERISAYAINFO\n"
     ]
    }
   ],
   "source": [
    "clean_kata_pembangkit = \"\"\n",
    "\n",
    "for char in kata_pembangkit:\n",
    "    if char in alphabet:\n",
    "        clean_kata_pembangkit += char\n",
    "\n",
    "print(clean_kata_pembangkit)"
   ]
  },
  {
   "cell_type": "code",
   "execution_count": 31,
   "metadata": {},
   "outputs": [
    {
     "name": "stdout",
     "output_type": "stream",
     "text": [
      "BUDISETAMRPKNGYHJOLFCQVWXZ\n",
      "['A', 'B', 'C', 'D', 'E', 'F', 'G', 'H', 'I', 'J', 'K', 'L', 'M', 'N', 'O', 'P', 'Q', 'R', 'S', 'T', 'U', 'V', 'W', 'X', 'Y', 'Z']\n"
     ]
    }
   ],
   "source": [
    "key = \"\"\n",
    "\n",
    "for char in clean_kata_pembangkit:\n",
    "    if char not in key:\n",
    "        key += char\n",
    "\n",
    "for char in alphabet:\n",
    "    if char not in key:\n",
    "        key += char\n",
    "\n",
    "print(key)\n",
    "print(alphabet)"
   ]
  },
  {
   "cell_type": "code",
   "execution_count": 32,
   "metadata": {},
   "outputs": [
    {
     "name": "stdout",
     "output_type": "stream",
     "text": [
      "char A diganti B\n",
      "char R diganti O\n",
      "char M diganti N\n",
      "char A diganti B\n",
      "char N diganti G\n",
      "char D diganti I\n",
      "char M diganti N\n",
      "char A diganti B\n",
      "char U diganti C\n",
      "char L diganti K\n",
      "char A diganti B\n",
      "char N diganti G\n",
      "char A diganti B\n",
      "char M diganti N\n",
      "char E diganti S\n",
      "char R diganti O\n",
      "char U diganti C\n",
      "char P diganti H\n",
      "char A diganti B\n",
      "char K diganti P\n",
      "char A diganti B\n",
      "char N diganti G\n",
      "char V diganti Q\n",
      "char O diganti Y\n",
      "char K diganti P\n",
      "char A diganti B\n",
      "char L diganti K\n",
      "char I diganti M\n",
      "char S diganti L\n",
      "char G diganti T\n",
      "char I diganti M\n",
      "char G diganti T\n",
      "char I diganti M\n",
      "char M diganti N\n",
      "char E diganti S\n",
      "char S diganti L\n",
      "char K diganti P\n",
      "char I diganti M\n",
      "char P diganti H\n",
      "char U diganti C\n",
      "char N diganti G\n",
      "char I diganti M\n",
      "char A diganti B\n",
      "char M diganti N\n",
      "char E diganti S\n",
      "char R diganti O\n",
      "char U diganti C\n",
      "char P diganti H\n",
      "char A diganti B\n",
      "char K diganti P\n",
      "char A diganti B\n",
      "char N diganti G\n",
      "char V diganti Q\n",
      "char O diganti Y\n",
      "char K diganti P\n",
      "char A diganti B\n",
      "char L diganti K\n",
      "char I diganti M\n",
      "char S diganti L\n",
      "char G diganti T\n",
      "char I diganti M\n",
      "char G diganti T\n",
      "char I diganti M\n",
      "char B diganti U\n",
      "char U diganti C\n",
      "char K diganti P\n",
      "char A diganti B\n",
      "char N diganti G\n",
      "char B diganti U\n",
      "char E diganti S\n",
      "char R diganti O\n",
      "char A diganti B\n",
      "char R diganti O\n",
      "char T diganti F\n",
      "char I diganti M\n",
      "char A diganti B\n",
      "char R diganti O\n",
      "char M diganti N\n",
      "char A diganti B\n",
      "char N diganti G\n",
      "char D diganti I\n",
      "char M diganti N\n",
      "char A diganti B\n",
      "char U diganti C\n",
      "char L diganti K\n",
      "char A diganti B\n",
      "char N diganti G\n",
      "char A diganti B\n",
      "char M diganti N\n",
      "char E diganti S\n",
      "char R diganti O\n",
      "char U diganti C\n",
      "char P diganti H\n",
      "char A diganti B\n",
      "char K diganti P\n",
      "char A diganti B\n",
      "char N diganti G\n",
      "char S diganti L\n",
      "char E diganti S\n",
      "char O diganti Y\n",
      "char R diganti O\n",
      "char A diganti B\n",
      "char N diganti G\n",
      "char G diganti T\n",
      "char D diganti I\n",
      "char O diganti Y\n",
      "char K diganti P\n",
      "char T diganti F\n",
      "char E diganti S\n",
      "char R diganti O\n",
      "char G diganti T\n",
      "char I diganti M\n",
      "char G diganti T\n",
      "char I diganti M\n",
      "char P diganti H\n",
      "char E diganti S\n",
      "char R diganti O\n",
      "char L diganti K\n",
      "char U diganti C\n",
      "char D diganti I\n",
      "char I diganti M\n",
      "char I diganti M\n",
      "char N diganti G\n",
      "char G diganti T\n",
      "char A diganti B\n",
      "char T diganti F\n",
      "char K diganti P\n",
      "char O diganti Y\n",
      "char N diganti G\n",
      "char T diganti F\n",
      "char E diganti S\n",
      "char K diganti P\n",
      "char S diganti L\n",
      "char D diganti I\n",
      "char A diganti B\n",
      "char R diganti O\n",
      "char I diganti M\n",
      "char G diganti T\n",
      "char I diganti M\n",
      "char G diganti T\n",
      "char I diganti M\n",
      "char S diganti L\n",
      "char E diganti S\n",
      "char N diganti G\n",
      "char D diganti I\n",
      "char I diganti M\n",
      "char R diganti O\n",
      "char I diganti M\n",
      "char T diganti F\n",
      "char I diganti M\n",
      "char D diganti I\n",
      "char A diganti B\n",
      "char K diganti P\n",
      "char P diganti H\n",
      "char U diganti C\n",
      "char L diganti K\n",
      "char A diganti B\n",
      "char T diganti F\n",
      "char E diganti S\n",
      "char R diganti O\n",
      "char A diganti B\n",
      "char R diganti O\n",
      "char A diganti B\n",
      "char H diganti A\n",
      "char P diganti H\n",
      "char A diganti B\n",
      "char D diganti I\n",
      "char A diganti B\n",
      "char I diganti M\n",
      "char S diganti L\n",
      "char T diganti F\n",
      "char R diganti O\n",
      "char I diganti M\n",
      "char R diganti O\n",
      "char A diganti B\n",
      "char F diganti E\n",
      "char F diganti E\n",
      "char I diganti M\n",
      "char A diganti B\n",
      "char H diganti A\n",
      "char M diganti N\n",
      "char A diganti B\n",
      "char D diganti I\n",
      "BONBGINBCKBGBNSOCHBPBGQYPBKMLTMTMNSLPMHCGMBNSOCHBPBGQYPBKMLTMTMUCPBGUSOBOFMBONBGINBCKBGBNSOCHBPBGLSYOBGTIYPFSOTMTMHSOKCIMMGTBFPYGFSPLIBOMTMTMLSGIMOMFMIBPHCKBFSOBOBAHBIBMLFOMOBEEMBANBI\n"
     ]
    }
   ],
   "source": [
    "cipher_text = \"\"\n",
    "\n",
    "for char in clean_plain_text:\n",
    "    for index_alpha in range(len(alphabet)):\n",
    "        if char == alphabet[index_alpha]:\n",
    "            cipher_text += key[index_alpha]\n",
    "            print(\"char {} diganti {}\".format(char, key[index_alpha]))\n",
    "print(cipher_text)"
   ]
  },
  {
   "cell_type": "code",
   "execution_count": 33,
   "metadata": {},
   "outputs": [],
   "source": [
    "with open('ciphertext.txt', 'w') as file:\n",
    "    file.write(cipher_text)"
   ]
  }
 ],
 "metadata": {
  "kernelspec": {
   "display_name": "Python 3",
   "language": "python",
   "name": "python3"
  },
  "language_info": {
   "codemirror_mode": {
    "name": "ipython",
    "version": 3
   },
   "file_extension": ".py",
   "mimetype": "text/x-python",
   "name": "python",
   "nbconvert_exporter": "python",
   "pygments_lexer": "ipython3",
   "version": "3.8.5"
  }
 },
 "nbformat": 4,
 "nbformat_minor": 4
}
