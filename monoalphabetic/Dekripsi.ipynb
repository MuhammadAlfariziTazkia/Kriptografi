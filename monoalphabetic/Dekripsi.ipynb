{
 "cells": [
  {
   "cell_type": "code",
   "execution_count": 23,
   "metadata": {},
   "outputs": [],
   "source": [
    "alphabet = [\n",
    "    'A', \n",
    "    'B', \n",
    "    'C', \n",
    "    'D', \n",
    "    'E', \n",
    "    'F', \n",
    "    'G', \n",
    "    'H', \n",
    "    'I', \n",
    "    'J', \n",
    "    'K', \n",
    "    'L', \n",
    "    'M', \n",
    "    'N', \n",
    "    'O', \n",
    "    'P', \n",
    "    'Q', \n",
    "    'R', \n",
    "    'S', \n",
    "    'T', \n",
    "    'U', \n",
    "    'V',\n",
    "    'W',\n",
    "    'X',\n",
    "    'Y',\n",
    "    'Z',\n",
    "]"
   ]
  },
  {
   "cell_type": "code",
   "execution_count": 24,
   "metadata": {},
   "outputs": [
    {
     "name": "stdout",
     "output_type": "stream",
     "text": [
      "26\n"
     ]
    }
   ],
   "source": [
    "print(len(alphabet))"
   ]
  },
  {
   "cell_type": "code",
   "execution_count": 25,
   "metadata": {},
   "outputs": [
    {
     "name": "stdout",
     "output_type": "stream",
     "text": [
      "DBFJIBHBPBYBHTDBHHBNBFSBORZRQBZERBPBYBPGJOBIUHBDBPRPWBQGEIRERISJOHBQREBQRIUEBQBEDRONBORRIPQRQTQQGEIJFJURPTHBQGOBPGFBHBKGOETFRBDBIPBYBPGIBIUNRARNBIUWGAPRQGNGVGFJKHGIQNBIHBMDRIGFGBOIRIUTIQTEWGAPRQGNGVGFJKHGIQPBYBSJETPKBNBABMEGINPGNBIUEBITIQTEHBMDRIGFGBOIRIUPBYBSJETPKBNBNGGKFGBOIRIU\n"
     ]
    }
   ],
   "source": [
    "cipher_text = \"\"\n",
    "with open('ciphertext.txt', 'r') as file:\n",
    "    for sentence in file:\n",
    "        cipher_text += sentence\n",
    "        \n",
    "print(cipher_text)"
   ]
  },
  {
   "cell_type": "code",
   "execution_count": 32,
   "metadata": {},
   "outputs": [
    {
     "name": "stdout",
     "output_type": "stream",
     "text": [
      "Masukan Kata Pembangkit: bambang .samudra!!\n"
     ]
    }
   ],
   "source": [
    "kata_pembangkit = input(\"Masukan Kata Pembangkit: \")"
   ]
  },
  {
   "cell_type": "code",
   "execution_count": 33,
   "metadata": {},
   "outputs": [
    {
     "name": "stdout",
     "output_type": "stream",
     "text": [
      "BAMBANG.SAMUDRA!!\n"
     ]
    }
   ],
   "source": [
    "kata_pembangkit = kata_pembangkit.upper().replace(\" \", \"\")\n",
    "print(kata_pembangkit)"
   ]
  },
  {
   "cell_type": "code",
   "execution_count": 34,
   "metadata": {},
   "outputs": [
    {
     "name": "stdout",
     "output_type": "stream",
     "text": [
      "BAMBANGSAMUDRA\n"
     ]
    }
   ],
   "source": [
    "clean_kata_pembangkit = \"\"\n",
    "\n",
    "for char in kata_pembangkit:\n",
    "    if char in alphabet:\n",
    "        clean_kata_pembangkit += char\n",
    "\n",
    "print(clean_kata_pembangkit)"
   ]
  },
  {
   "cell_type": "code",
   "execution_count": 35,
   "metadata": {},
   "outputs": [
    {
     "name": "stdout",
     "output_type": "stream",
     "text": [
      "BAMNGSUDRCEFHIJKLOPQTVWXYZ\n",
      "['A', 'B', 'C', 'D', 'E', 'F', 'G', 'H', 'I', 'J', 'K', 'L', 'M', 'N', 'O', 'P', 'Q', 'R', 'S', 'T', 'U', 'V', 'W', 'X', 'Y', 'Z']\n"
     ]
    }
   ],
   "source": [
    "key = \"\"\n",
    "\n",
    "for char in clean_kata_pembangkit:\n",
    "    if char not in key:\n",
    "        key += char\n",
    "\n",
    "for char in alphabet:\n",
    "    if char not in key:\n",
    "        key += char\n",
    "\n",
    "print(key)\n",
    "print(alphabet)"
   ]
  },
  {
   "cell_type": "code",
   "execution_count": 44,
   "metadata": {},
   "outputs": [
    {
     "name": "stdout",
     "output_type": "stream",
     "text": [
      "char B diganti A\n",
      "char O diganti R\n",
      "char N diganti M\n",
      "char B diganti A\n",
      "char G diganti N\n",
      "char I diganti D\n",
      "char N diganti M\n",
      "char B diganti A\n",
      "char C diganti U\n",
      "char K diganti L\n",
      "char B diganti A\n",
      "char G diganti N\n",
      "char B diganti A\n",
      "char N diganti M\n",
      "char S diganti E\n",
      "char O diganti R\n",
      "char C diganti U\n",
      "char H diganti P\n",
      "char B diganti A\n",
      "char P diganti K\n",
      "char B diganti A\n",
      "char G diganti N\n",
      "char Q diganti V\n",
      "char Y diganti O\n",
      "char P diganti K\n",
      "char B diganti A\n",
      "char K diganti L\n",
      "char M diganti I\n",
      "char L diganti S\n",
      "char T diganti G\n",
      "char M diganti I\n",
      "char T diganti G\n",
      "char M diganti I\n",
      "char N diganti M\n",
      "char S diganti E\n",
      "char L diganti S\n",
      "char P diganti K\n",
      "char M diganti I\n",
      "char H diganti P\n",
      "char C diganti U\n",
      "char G diganti N\n",
      "char M diganti I\n",
      "char B diganti A\n",
      "char N diganti M\n",
      "char S diganti E\n",
      "char O diganti R\n",
      "char C diganti U\n",
      "char H diganti P\n",
      "char B diganti A\n",
      "char P diganti K\n",
      "char B diganti A\n",
      "char G diganti N\n",
      "char Q diganti V\n",
      "char Y diganti O\n",
      "char P diganti K\n",
      "char B diganti A\n",
      "char K diganti L\n",
      "char M diganti I\n",
      "char L diganti S\n",
      "char T diganti G\n",
      "char M diganti I\n",
      "char T diganti G\n",
      "char M diganti I\n",
      "char U diganti B\n",
      "char C diganti U\n",
      "char P diganti K\n",
      "char B diganti A\n",
      "char G diganti N\n",
      "char U diganti B\n",
      "char S diganti E\n",
      "char O diganti R\n",
      "char B diganti A\n",
      "char O diganti R\n",
      "char F diganti T\n",
      "char M diganti I\n",
      "char B diganti A\n",
      "char O diganti R\n",
      "char N diganti M\n",
      "char B diganti A\n",
      "char G diganti N\n",
      "char I diganti D\n",
      "char N diganti M\n",
      "char B diganti A\n",
      "char C diganti U\n",
      "char K diganti L\n",
      "char B diganti A\n",
      "char G diganti N\n",
      "char B diganti A\n",
      "char N diganti M\n",
      "char S diganti E\n",
      "char O diganti R\n",
      "char C diganti U\n",
      "char H diganti P\n",
      "char B diganti A\n",
      "char P diganti K\n",
      "char B diganti A\n",
      "char G diganti N\n",
      "char L diganti S\n",
      "char S diganti E\n",
      "char Y diganti O\n",
      "char O diganti R\n",
      "char B diganti A\n",
      "char G diganti N\n",
      "char T diganti G\n",
      "char I diganti D\n",
      "char Y diganti O\n",
      "char P diganti K\n",
      "char F diganti T\n",
      "char S diganti E\n",
      "char O diganti R\n",
      "char T diganti G\n",
      "char M diganti I\n",
      "char T diganti G\n",
      "char M diganti I\n",
      "char H diganti P\n",
      "char S diganti E\n",
      "char O diganti R\n",
      "char K diganti L\n",
      "char C diganti U\n",
      "char I diganti D\n",
      "char M diganti I\n",
      "char M diganti I\n",
      "char G diganti N\n",
      "char T diganti G\n",
      "char B diganti A\n",
      "char F diganti T\n",
      "char P diganti K\n",
      "char Y diganti O\n",
      "char G diganti N\n",
      "char F diganti T\n",
      "char S diganti E\n",
      "char P diganti K\n",
      "char L diganti S\n",
      "char I diganti D\n",
      "char B diganti A\n",
      "char O diganti R\n",
      "char M diganti I\n",
      "char T diganti G\n",
      "char M diganti I\n",
      "char T diganti G\n",
      "char M diganti I\n",
      "char L diganti S\n",
      "char S diganti E\n",
      "char G diganti N\n",
      "char I diganti D\n",
      "char M diganti I\n",
      "char O diganti R\n",
      "char M diganti I\n",
      "char F diganti T\n",
      "char M diganti I\n",
      "char I diganti D\n",
      "char B diganti A\n",
      "char P diganti K\n",
      "char H diganti P\n",
      "char C diganti U\n",
      "char K diganti L\n",
      "char B diganti A\n",
      "char F diganti T\n",
      "char S diganti E\n",
      "char O diganti R\n",
      "char B diganti A\n",
      "char O diganti R\n",
      "char B diganti A\n",
      "char A diganti H\n",
      "char H diganti P\n",
      "char B diganti A\n",
      "char I diganti D\n",
      "char B diganti A\n",
      "char M diganti I\n",
      "char L diganti S\n",
      "char F diganti T\n",
      "char O diganti R\n",
      "char M diganti I\n",
      "char O diganti R\n",
      "char B diganti A\n",
      "char E diganti F\n",
      "char E diganti F\n",
      "char M diganti I\n",
      "char B diganti A\n",
      "char A diganti H\n",
      "char N diganti M\n",
      "char B diganti A\n",
      "char I diganti D\n",
      "ARMANDMAULANAMERUPAKANVOKALISGIGIMESKIPUNIAMERUPAKANVOKALISGIGIBUKANBERARTIARMANDMAULANAMERUPAKANSEORANGDOKTERGIGIPERLUDIINGATKONTEKSDARIGIGISENDIRITIDAKPULATERARAHPADAISTRIRAFFIAHMAD\n"
     ]
    }
   ],
   "source": [
    "plain_text = \"\"\n",
    "\n",
    "for char in cipher_text:\n",
    "    for index_key in range(len(alphabet)):\n",
    "        if char == key[index_key]:\n",
    "            plain_text += alphabet[index_key]\n",
    "            print(\"char {} diganti {}\".format(char, alphabet[index_key]))\n",
    "print(plain_text)\n",
    "\n"
   ]
  },
  {
   "cell_type": "code",
   "execution_count": 45,
   "metadata": {},
   "outputs": [],
   "source": [
    "with open('plaintext.txt', 'w') as file:\n",
    "    file.write(plain_text)"
   ]
  }
 ],
 "metadata": {
  "kernelspec": {
   "display_name": "Python 3",
   "language": "python",
   "name": "python3"
  },
  "language_info": {
   "codemirror_mode": {
    "name": "ipython",
    "version": 3
   },
   "file_extension": ".py",
   "mimetype": "text/x-python",
   "name": "python",
   "nbconvert_exporter": "python",
   "pygments_lexer": "ipython3",
   "version": "3.8.5"
  }
 },
 "nbformat": 4,
 "nbformat_minor": 4
}
