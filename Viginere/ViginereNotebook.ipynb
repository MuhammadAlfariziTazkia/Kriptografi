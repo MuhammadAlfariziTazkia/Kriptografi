{
 "cells": [
  {
   "cell_type": "markdown",
   "metadata": {},
   "source": [
    "# Viginere Cryptography"
   ]
  },
  {
   "cell_type": "markdown",
   "metadata": {},
   "source": [
    "### Assign alphabet kedalam array"
   ]
  },
  {
   "cell_type": "code",
   "execution_count": 9,
   "metadata": {},
   "outputs": [],
   "source": [
    "alphabet = [\n",
    "    'A', \n",
    "    'B', \n",
    "    'C', \n",
    "    'D', \n",
    "    'E', \n",
    "    'F', \n",
    "    'G', \n",
    "    'H', \n",
    "    'I', \n",
    "    'J', \n",
    "    'K', \n",
    "    'L', \n",
    "    'M', \n",
    "    'N', \n",
    "    'O', \n",
    "    'P', \n",
    "    'Q', \n",
    "    'R', \n",
    "    'S', \n",
    "    'T', \n",
    "    'U', \n",
    "    'V',\n",
    "    'W',\n",
    "    'X',\n",
    "    'Y',\n",
    "    'Z',\n",
    "]"
   ]
  },
  {
   "cell_type": "code",
   "execution_count": 10,
   "metadata": {},
   "outputs": [
    {
     "name": "stdout",
     "output_type": "stream",
     "text": [
      "26\n"
     ]
    }
   ],
   "source": [
    "print(len(alphabet))"
   ]
  },
  {
   "cell_type": "code",
   "execution_count": 25,
   "metadata": {},
   "outputs": [
    {
     "name": "stdout",
     "output_type": "stream",
     "text": [
      "saya fay\n",
      "\n"
     ]
    }
   ],
   "source": [
    "plain_text = \"\"\n",
    "with open('plain_text.txt', 'r') as file:\n",
    "    for sentence in file:\n",
    "        plain_text += sentence\n",
    "        \n",
    "print(plain_text)"
   ]
  },
  {
   "cell_type": "code",
   "execution_count": 26,
   "metadata": {},
   "outputs": [
    {
     "name": "stdout",
     "output_type": "stream",
     "text": [
      "Masukan Kata Pembangkit: ibrahim\n"
     ]
    }
   ],
   "source": [
    "kata_pembangkit = input(\"Masukan Kata Pembangkit: \")"
   ]
  },
  {
   "cell_type": "code",
   "execution_count": 27,
   "metadata": {},
   "outputs": [
    {
     "name": "stdout",
     "output_type": "stream",
     "text": [
      "SAYAFAY\n"
     ]
    }
   ],
   "source": [
    "plain_text = plain_text.upper().replace(\" \", \"\").replace(\"\\n\", \"\")\n",
    "print(plain_text)"
   ]
  },
  {
   "cell_type": "code",
   "execution_count": 28,
   "metadata": {},
   "outputs": [
    {
     "name": "stdout",
     "output_type": "stream",
     "text": [
      "SAYAFAY\n"
     ]
    }
   ],
   "source": [
    "clean_plain_text = \"\"\n",
    "\n",
    "for char in plain_text:\n",
    "    if char in alphabet:\n",
    "        clean_plain_text += char\n",
    "\n",
    "print(clean_plain_text)"
   ]
  },
  {
   "cell_type": "code",
   "execution_count": 29,
   "metadata": {},
   "outputs": [
    {
     "name": "stdout",
     "output_type": "stream",
     "text": [
      "IBRAHIM\n"
     ]
    }
   ],
   "source": [
    "kata_pembangkit = kata_pembangkit.upper().replace(\" \", \"\")\n",
    "print(kata_pembangkit)"
   ]
  },
  {
   "cell_type": "code",
   "execution_count": 30,
   "metadata": {},
   "outputs": [
    {
     "name": "stdout",
     "output_type": "stream",
     "text": [
      "IBRAHIM\n"
     ]
    }
   ],
   "source": [
    "kunci = \"\"\n",
    "\n",
    "for index in range(len(clean_plain_text)):\n",
    "    kunci += kata_pembangkit[index%len(kata_pembangkit)]\n",
    "    \n",
    "print(kunci)"
   ]
  },
  {
   "cell_type": "code",
   "execution_count": 31,
   "metadata": {},
   "outputs": [
    {
     "name": "stdout",
     "output_type": "stream",
     "text": [
      "7\n",
      "7\n"
     ]
    }
   ],
   "source": [
    "print(len(kunci))\n",
    "print(len(clean_plain_text))"
   ]
  },
  {
   "cell_type": "code",
   "execution_count": 32,
   "metadata": {},
   "outputs": [
    {
     "name": "stdout",
     "output_type": "stream",
     "text": [
      "not in list\n"
     ]
    }
   ],
   "source": [
    "if '12' in alphabet:\n",
    "    print(alphabet.index('12'))\n",
    "else:\n",
    "    print('not in list')"
   ]
  },
  {
   "cell_type": "code",
   "execution_count": 33,
   "metadata": {},
   "outputs": [
    {
     "name": "stdout",
     "output_type": "stream",
     "text": [
      "Plain Char = S, index = 18\n",
      "Kunci Char = I, index = 8\n",
      "Formula = (18 + 8)mod 26 = 0 \n",
      "Cipher Char = A\n",
      "\n",
      "Plain Char = A, index = 0\n",
      "Kunci Char = B, index = 1\n",
      "Formula = (0 + 1)mod 26 = 1 \n",
      "Cipher Char = B\n",
      "\n",
      "Plain Char = Y, index = 24\n",
      "Kunci Char = R, index = 17\n",
      "Formula = (24 + 17)mod 26 = 15 \n",
      "Cipher Char = P\n",
      "\n",
      "Plain Char = A, index = 0\n",
      "Kunci Char = A, index = 0\n",
      "Formula = (0 + 0)mod 26 = 0 \n",
      "Cipher Char = A\n",
      "\n",
      "Plain Char = F, index = 5\n",
      "Kunci Char = H, index = 7\n",
      "Formula = (5 + 7)mod 26 = 12 \n",
      "Cipher Char = M\n",
      "\n",
      "Plain Char = A, index = 0\n",
      "Kunci Char = I, index = 8\n",
      "Formula = (0 + 8)mod 26 = 8 \n",
      "Cipher Char = I\n",
      "\n",
      "Plain Char = Y, index = 24\n",
      "Kunci Char = M, index = 12\n",
      "Formula = (24 + 12)mod 26 = 10 \n",
      "Cipher Char = K\n",
      "\n"
     ]
    }
   ],
   "source": [
    "cipher = []\n",
    "\n",
    "for i in range(len(clean_plain_text)):\n",
    "    plain_text_index = alphabet.index(clean_plain_text[i])\n",
    "    kunci_index = alphabet.index(kunci[i])\n",
    "    \n",
    "    result_index = (plain_text_index + kunci_index)%26\n",
    "    \n",
    "    cipher.append(alphabet[result_index])\n",
    "    \n",
    "    print(\"Plain Char = {}, index = {}\".format(clean_plain_text[i], plain_text_index))\n",
    "    print(\"Kunci Char = {}, index = {}\".format(kunci[i], kunci_index))\n",
    "    print(\"Formula = ({} + {})mod 26 = {} \".format(plain_text_index, kunci_index, result_index))\n",
    "    print(\"Cipher Char = {}\".format(alphabet[result_index]))\n",
    "    print()\n",
    "    "
   ]
  },
  {
   "cell_type": "code",
   "execution_count": 34,
   "metadata": {},
   "outputs": [
    {
     "name": "stdout",
     "output_type": "stream",
     "text": [
      "Result = ABPAMIK\n"
     ]
    }
   ],
   "source": [
    "cipher_text = \"\"\n",
    "for char in cipher:\n",
    "    cipher_text += char\n",
    "    \n",
    "print(\"Result = {}\".format(cipher_text))"
   ]
  },
  {
   "cell_type": "code",
   "execution_count": 35,
   "metadata": {},
   "outputs": [],
   "source": [
    "with open('cipher_text.txt', 'w') as file:\n",
    "    file.write(cipher_text)"
   ]
  },
  {
   "cell_type": "code",
   "execution_count": null,
   "metadata": {},
   "outputs": [],
   "source": []
  }
 ],
 "metadata": {
  "kernelspec": {
   "display_name": "Python 3",
   "language": "python",
   "name": "python3"
  },
  "language_info": {
   "codemirror_mode": {
    "name": "ipython",
    "version": 3
   },
   "file_extension": ".py",
   "mimetype": "text/x-python",
   "name": "python",
   "nbconvert_exporter": "python",
   "pygments_lexer": "ipython3",
   "version": "3.7.3"
  }
 },
 "nbformat": 4,
 "nbformat_minor": 2
}
