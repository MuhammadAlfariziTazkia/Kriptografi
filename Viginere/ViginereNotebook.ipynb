{
 "cells": [
  {
   "cell_type": "markdown",
   "metadata": {},
   "source": [
    "# Viginere Cryptography"
   ]
  },
  {
   "cell_type": "markdown",
   "metadata": {},
   "source": [
    "### Assign alphabet kedalam array"
   ]
  },
  {
   "cell_type": "code",
   "execution_count": 2,
   "metadata": {},
   "outputs": [],
   "source": [
    "alphabet = [\n",
    "    'A', \n",
    "    'B', \n",
    "    'C', \n",
    "    'D', \n",
    "    'E', \n",
    "    'F', \n",
    "    'G', \n",
    "    'H', \n",
    "    'I', \n",
    "    'J', \n",
    "    'K', \n",
    "    'L', \n",
    "    'M', \n",
    "    'N', \n",
    "    'O', \n",
    "    'P', \n",
    "    'Q', \n",
    "    'R', \n",
    "    'S', \n",
    "    'T', \n",
    "    'U', \n",
    "    'V',\n",
    "    'W',\n",
    "    'X',\n",
    "    'Y',\n",
    "    'Z',\n",
    "]"
   ]
  },
  {
   "cell_type": "code",
   "execution_count": 3,
   "metadata": {},
   "outputs": [
    {
     "name": "stdout",
     "output_type": "stream",
     "text": [
      "26\n"
     ]
    }
   ],
   "source": [
    "print(len(alphabet))"
   ]
  },
  {
   "cell_type": "code",
   "execution_count": 23,
   "metadata": {},
   "outputs": [
    {
     "name": "stdout",
     "output_type": "stream",
     "text": [
      "Masukan Plain Text: aku sayang banget sama kamu\n",
      "Masukan Kata Pembangkit: badra\n"
     ]
    }
   ],
   "source": [
    "plain_text = input(\"Masukan Plain Text: \")\n",
    "kata_pembangkit = input(\"Masukan Kata Pembangkit: \")"
   ]
  },
  {
   "cell_type": "code",
   "execution_count": 24,
   "metadata": {},
   "outputs": [
    {
     "name": "stdout",
     "output_type": "stream",
     "text": [
      "AKUSAYANGBANGETSAMAKAMU\n"
     ]
    }
   ],
   "source": [
    "plain_text = plain_text.upper().replace(\" \", \"\")\n",
    "print(plain_text)"
   ]
  },
  {
   "cell_type": "code",
   "execution_count": 25,
   "metadata": {},
   "outputs": [
    {
     "name": "stdout",
     "output_type": "stream",
     "text": [
      "BADRA\n"
     ]
    }
   ],
   "source": [
    "kata_pembangkit = kata_pembangkit.upper().replace(\" \", \"\")\n",
    "print(kata_pembangkit)"
   ]
  },
  {
   "cell_type": "code",
   "execution_count": 26,
   "metadata": {},
   "outputs": [
    {
     "name": "stdout",
     "output_type": "stream",
     "text": [
      "['B', 'A', 'D', 'R', 'A', 'B', 'A', 'D', 'R', 'A', 'B', 'A', 'D', 'R', 'A', 'B', 'A', 'D', 'R', 'A', 'B', 'A', 'D']\n"
     ]
    }
   ],
   "source": [
    "kunci = []\n",
    "\n",
    "for index in range(len(plain_text)):\n",
    "    kunci.append(kata_pembangkit[index%len(kata_pembangkit)])\n",
    "    \n",
    "print(kunci)"
   ]
  },
  {
   "cell_type": "code",
   "execution_count": 27,
   "metadata": {},
   "outputs": [
    {
     "name": "stdout",
     "output_type": "stream",
     "text": [
      "23\n",
      "23\n"
     ]
    }
   ],
   "source": [
    "print(len(kunci))\n",
    "print(len(plain_text))"
   ]
  },
  {
   "cell_type": "code",
   "execution_count": 28,
   "metadata": {},
   "outputs": [
    {
     "name": "stdout",
     "output_type": "stream",
     "text": [
      "8\n"
     ]
    }
   ],
   "source": [
    "print(alphabet.index('I'))"
   ]
  },
  {
   "cell_type": "code",
   "execution_count": 21,
   "metadata": {},
   "outputs": [
    {
     "name": "stdout",
     "output_type": "stream",
     "text": [
      "Plain Char = N, index = 13\n",
      "Kunci Char = I, index = 8\n",
      "Formula = (13 + 8)mod 26 = 21 \n",
      "Cipher Char = V\n",
      "\n",
      "Plain Char = A, index = 0\n",
      "Kunci Char = B, index = 1\n",
      "Formula = (0 + 1)mod 26 = 1 \n",
      "Cipher Char = B\n",
      "\n",
      "Plain Char = M, index = 12\n",
      "Kunci Char = R, index = 17\n",
      "Formula = (12 + 17)mod 26 = 3 \n",
      "Cipher Char = D\n",
      "\n",
      "Plain Char = A, index = 0\n",
      "Kunci Char = A, index = 0\n",
      "Formula = (0 + 0)mod 26 = 0 \n",
      "Cipher Char = A\n",
      "\n",
      "Plain Char = S, index = 18\n",
      "Kunci Char = H, index = 7\n",
      "Formula = (18 + 7)mod 26 = 25 \n",
      "Cipher Char = Z\n",
      "\n",
      "Plain Char = A, index = 0\n",
      "Kunci Char = I, index = 8\n",
      "Formula = (0 + 8)mod 26 = 8 \n",
      "Cipher Char = I\n",
      "\n",
      "Plain Char = Y, index = 24\n",
      "Kunci Char = M, index = 12\n",
      "Formula = (24 + 12)mod 26 = 10 \n",
      "Cipher Char = K\n",
      "\n",
      "Plain Char = A, index = 0\n",
      "Kunci Char = I, index = 8\n",
      "Formula = (0 + 8)mod 26 = 8 \n",
      "Cipher Char = I\n",
      "\n",
      "Plain Char = M, index = 12\n",
      "Kunci Char = B, index = 1\n",
      "Formula = (12 + 1)mod 26 = 13 \n",
      "Cipher Char = N\n",
      "\n",
      "Plain Char = U, index = 20\n",
      "Kunci Char = R, index = 17\n",
      "Formula = (20 + 17)mod 26 = 11 \n",
      "Cipher Char = L\n",
      "\n",
      "Plain Char = H, index = 7\n",
      "Kunci Char = A, index = 0\n",
      "Formula = (7 + 0)mod 26 = 7 \n",
      "Cipher Char = H\n",
      "\n",
      "Plain Char = A, index = 0\n",
      "Kunci Char = H, index = 7\n",
      "Formula = (0 + 7)mod 26 = 7 \n",
      "Cipher Char = H\n",
      "\n",
      "Plain Char = M, index = 12\n",
      "Kunci Char = I, index = 8\n",
      "Formula = (12 + 8)mod 26 = 20 \n",
      "Cipher Char = U\n",
      "\n",
      "Plain Char = M, index = 12\n",
      "Kunci Char = M, index = 12\n",
      "Formula = (12 + 12)mod 26 = 24 \n",
      "Cipher Char = Y\n",
      "\n",
      "Plain Char = A, index = 0\n",
      "Kunci Char = I, index = 8\n",
      "Formula = (0 + 8)mod 26 = 8 \n",
      "Cipher Char = I\n",
      "\n",
      "Plain Char = D, index = 3\n",
      "Kunci Char = B, index = 1\n",
      "Formula = (3 + 1)mod 26 = 4 \n",
      "Cipher Char = E\n",
      "\n",
      "Plain Char = A, index = 0\n",
      "Kunci Char = R, index = 17\n",
      "Formula = (0 + 17)mod 26 = 17 \n",
      "Cipher Char = R\n",
      "\n",
      "Plain Char = L, index = 11\n",
      "Kunci Char = A, index = 0\n",
      "Formula = (11 + 0)mod 26 = 11 \n",
      "Cipher Char = L\n",
      "\n",
      "Plain Char = F, index = 5\n",
      "Kunci Char = H, index = 7\n",
      "Formula = (5 + 7)mod 26 = 12 \n",
      "Cipher Char = M\n",
      "\n",
      "Plain Char = A, index = 0\n",
      "Kunci Char = I, index = 8\n",
      "Formula = (0 + 8)mod 26 = 8 \n",
      "Cipher Char = I\n",
      "\n",
      "Plain Char = R, index = 17\n",
      "Kunci Char = M, index = 12\n",
      "Formula = (17 + 12)mod 26 = 3 \n",
      "Cipher Char = D\n",
      "\n",
      "Plain Char = I, index = 8\n",
      "Kunci Char = I, index = 8\n",
      "Formula = (8 + 8)mod 26 = 16 \n",
      "Cipher Char = Q\n",
      "\n",
      "Plain Char = Z, index = 25\n",
      "Kunci Char = B, index = 1\n",
      "Formula = (25 + 1)mod 26 = 0 \n",
      "Cipher Char = A\n",
      "\n",
      "Plain Char = I, index = 8\n",
      "Kunci Char = R, index = 17\n",
      "Formula = (8 + 17)mod 26 = 25 \n",
      "Cipher Char = Z\n",
      "\n",
      "Plain Char = T, index = 19\n",
      "Kunci Char = A, index = 0\n",
      "Formula = (19 + 0)mod 26 = 19 \n",
      "Cipher Char = T\n",
      "\n",
      "Plain Char = A, index = 0\n",
      "Kunci Char = H, index = 7\n",
      "Formula = (0 + 7)mod 26 = 7 \n",
      "Cipher Char = H\n",
      "\n",
      "Plain Char = Z, index = 25\n",
      "Kunci Char = I, index = 8\n",
      "Formula = (25 + 8)mod 26 = 7 \n",
      "Cipher Char = H\n",
      "\n",
      "Plain Char = K, index = 10\n",
      "Kunci Char = M, index = 12\n",
      "Formula = (10 + 12)mod 26 = 22 \n",
      "Cipher Char = W\n",
      "\n",
      "Plain Char = I, index = 8\n",
      "Kunci Char = I, index = 8\n",
      "Formula = (8 + 8)mod 26 = 16 \n",
      "Cipher Char = Q\n",
      "\n",
      "Plain Char = A, index = 0\n",
      "Kunci Char = B, index = 1\n",
      "Formula = (0 + 1)mod 26 = 1 \n",
      "Cipher Char = B\n",
      "\n"
     ]
    }
   ],
   "source": [
    "cipher = []\n",
    "\n",
    "for i in range(len(plain_text)):\n",
    "    plain_text_index = alphabet.index(plain_text[i])\n",
    "    kunci_index = alphabet.index(kunci[i])\n",
    "    \n",
    "    result_index = (plain_text_index + kunci_index)%26\n",
    "    \n",
    "    cipher.append(alphabet[result_index])\n",
    "    \n",
    "    print(\"Plain Char = {}, index = {}\".format(plain_text[i], plain_text_index))\n",
    "    print(\"Kunci Char = {}, index = {}\".format(kunci[i], kunci_index))\n",
    "    print(\"Formula = ({} + {})mod 26 = {} \".format(plain_text_index, kunci_index, result_index))\n",
    "    print(\"Cipher Char = {}\".format(alphabet[result_index]))\n",
    "    print()\n",
    "    "
   ]
  },
  {
   "cell_type": "code",
   "execution_count": 22,
   "metadata": {},
   "outputs": [
    {
     "name": "stdout",
     "output_type": "stream",
     "text": [
      "Result = VBDAZIKINLHHUYIERLMIDQAZTHHWQB\n"
     ]
    }
   ],
   "source": [
    "cipher_text = \"\"\n",
    "for char in cipher:\n",
    "    cipher_text += char\n",
    "    \n",
    "print(\"Result = {}\".format(cipher_text))"
   ]
  },
  {
   "cell_type": "code",
   "execution_count": null,
   "metadata": {},
   "outputs": [],
   "source": []
  }
 ],
 "metadata": {
  "kernelspec": {
   "display_name": "Python 3",
   "language": "python",
   "name": "python3"
  },
  "language_info": {
   "codemirror_mode": {
    "name": "ipython",
    "version": 3
   },
   "file_extension": ".py",
   "mimetype": "text/x-python",
   "name": "python",
   "nbconvert_exporter": "python",
   "pygments_lexer": "ipython3",
   "version": "3.7.3"
  }
 },
 "nbformat": 4,
 "nbformat_minor": 2
}
