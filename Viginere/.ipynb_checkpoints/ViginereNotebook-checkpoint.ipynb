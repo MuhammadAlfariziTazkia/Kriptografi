{
 "cells": [
  {
   "cell_type": "markdown",
   "metadata": {},
   "source": [
    "# Viginere Cryptography"
   ]
  },
  {
   "cell_type": "code",
   "execution_count": 5,
   "metadata": {},
   "outputs": [
    {
     "name": "stdout",
     "output_type": "stream",
     "text": [
      "Halo, Nama saya Muhammad Alfarizi Tazkia\n",
      "Saya mahasiswa tingkat akhir institut teknologi sumatera\n",
      "saya memiliki skill di website development dan machine learning\n",
      "khususnya back end development untuk website development\n",
      "dan deep learning untuk machine learning\n",
      "\n",
      "\n"
     ]
    }
   ],
   "source": [
    "plain_text = \"\"\n",
    "with open('plain_text.txt', 'r') as file:\n",
    "    for sentence in file:\n",
    "        plain_text += sentence\n",
    "        \n",
    "print(plain_text)"
   ]
  },
  {
   "cell_type": "markdown",
   "metadata": {},
   "source": [
    "### Assign alphabet kedalam array"
   ]
  },
  {
   "cell_type": "code",
   "execution_count": 50,
   "metadata": {},
   "outputs": [],
   "source": [
    "alphabet = [\n",
    "    'A', \n",
    "    'B', \n",
    "    'C', \n",
    "    'D', \n",
    "    'E', \n",
    "    'F', \n",
    "    'G', \n",
    "    'H', \n",
    "    'I', \n",
    "    'J', \n",
    "    'K', \n",
    "    'L', \n",
    "    'M', \n",
    "    'N', \n",
    "    'O', \n",
    "    'P', \n",
    "    'Q', \n",
    "    'R', \n",
    "    'S', \n",
    "    'T', \n",
    "    'U', \n",
    "    'V',\n",
    "    'W',\n",
    "    'X',\n",
    "    'Y',\n",
    "    'Z',\n",
    "]"
   ]
  },
  {
   "cell_type": "code",
   "execution_count": 51,
   "metadata": {},
   "outputs": [
    {
     "name": "stdout",
     "output_type": "stream",
     "text": [
      "26\n"
     ]
    }
   ],
   "source": [
    "print(len(alphabet))"
   ]
  },
  {
   "cell_type": "code",
   "execution_count": 52,
   "metadata": {},
   "outputs": [
    {
     "name": "stdout",
     "output_type": "stream",
     "text": [
      "Masukan Plain Text: halo, nama saya fay, saya tinggal di pulogebang\n",
      "Masukan Kata Pembangkit: password\n"
     ]
    }
   ],
   "source": [
    "plain_text = input(\"Masukan Plain Text: \")\n",
    "kata_pembangkit = input(\"Masukan Kata Pembangkit: \")"
   ]
  },
  {
   "cell_type": "code",
   "execution_count": 53,
   "metadata": {},
   "outputs": [
    {
     "name": "stdout",
     "output_type": "stream",
     "text": [
      "HALO,NAMASAYAFAY,SAYATINGGALDIPULOGEBANG\n"
     ]
    }
   ],
   "source": [
    "plain_text = plain_text.upper().replace(\" \", \"\")\n",
    "print(plain_text)"
   ]
  },
  {
   "cell_type": "code",
   "execution_count": 54,
   "metadata": {},
   "outputs": [
    {
     "name": "stdout",
     "output_type": "stream",
     "text": [
      "HALONAMASAYAFAYSAYATINGGALDIPULOGEBANG\n"
     ]
    }
   ],
   "source": [
    "clean_plain_text = \"\"\n",
    "\n",
    "for char in plain_text:\n",
    "    if char in alphabet:\n",
    "        clean_plain_text += char\n",
    "\n",
    "print(clean_plain_text)"
   ]
  },
  {
   "cell_type": "code",
   "execution_count": 55,
   "metadata": {},
   "outputs": [
    {
     "name": "stdout",
     "output_type": "stream",
     "text": [
      "PASSWORD\n"
     ]
    }
   ],
   "source": [
    "kata_pembangkit = kata_pembangkit.upper().replace(\" \", \"\")\n",
    "print(kata_pembangkit)"
   ]
  },
  {
   "cell_type": "code",
   "execution_count": 57,
   "metadata": {},
   "outputs": [
    {
     "name": "stdout",
     "output_type": "stream",
     "text": [
      "PASSWORDPASSWORDPASSWORDPASSWORDPASSWO\n"
     ]
    }
   ],
   "source": [
    "kunci = \"\"\n",
    "\n",
    "for index in range(len(clean_plain_text)):\n",
    "    kunci += kata_pembangkit[index%len(kata_pembangkit)]\n",
    "    \n",
    "print(kunci)"
   ]
  },
  {
   "cell_type": "code",
   "execution_count": 58,
   "metadata": {},
   "outputs": [
    {
     "name": "stdout",
     "output_type": "stream",
     "text": [
      "38\n",
      "38\n"
     ]
    }
   ],
   "source": [
    "print(len(kunci))\n",
    "print(len(clean_plain_text))"
   ]
  },
  {
   "cell_type": "code",
   "execution_count": 59,
   "metadata": {},
   "outputs": [
    {
     "name": "stdout",
     "output_type": "stream",
     "text": [
      "not in list\n"
     ]
    }
   ],
   "source": [
    "if '12' in alphabet:\n",
    "    print(alphabet.index('12'))\n",
    "else:\n",
    "    print('not in list')"
   ]
  },
  {
   "cell_type": "code",
   "execution_count": 60,
   "metadata": {},
   "outputs": [
    {
     "name": "stdout",
     "output_type": "stream",
     "text": [
      "Plain Char = H, index = 7\n",
      "Kunci Char = P, index = 15\n",
      "Formula = (7 + 15)mod 26 = 22 \n",
      "Cipher Char = W\n",
      "\n",
      "Plain Char = A, index = 0\n",
      "Kunci Char = A, index = 0\n",
      "Formula = (0 + 0)mod 26 = 0 \n",
      "Cipher Char = A\n",
      "\n",
      "Plain Char = L, index = 11\n",
      "Kunci Char = S, index = 18\n",
      "Formula = (11 + 18)mod 26 = 3 \n",
      "Cipher Char = D\n",
      "\n",
      "Plain Char = O, index = 14\n",
      "Kunci Char = S, index = 18\n",
      "Formula = (14 + 18)mod 26 = 6 \n",
      "Cipher Char = G\n",
      "\n",
      "Plain Char = N, index = 13\n",
      "Kunci Char = W, index = 22\n",
      "Formula = (13 + 22)mod 26 = 9 \n",
      "Cipher Char = J\n",
      "\n",
      "Plain Char = A, index = 0\n",
      "Kunci Char = O, index = 14\n",
      "Formula = (0 + 14)mod 26 = 14 \n",
      "Cipher Char = O\n",
      "\n",
      "Plain Char = M, index = 12\n",
      "Kunci Char = R, index = 17\n",
      "Formula = (12 + 17)mod 26 = 3 \n",
      "Cipher Char = D\n",
      "\n",
      "Plain Char = A, index = 0\n",
      "Kunci Char = D, index = 3\n",
      "Formula = (0 + 3)mod 26 = 3 \n",
      "Cipher Char = D\n",
      "\n",
      "Plain Char = S, index = 18\n",
      "Kunci Char = P, index = 15\n",
      "Formula = (18 + 15)mod 26 = 7 \n",
      "Cipher Char = H\n",
      "\n",
      "Plain Char = A, index = 0\n",
      "Kunci Char = A, index = 0\n",
      "Formula = (0 + 0)mod 26 = 0 \n",
      "Cipher Char = A\n",
      "\n",
      "Plain Char = Y, index = 24\n",
      "Kunci Char = S, index = 18\n",
      "Formula = (24 + 18)mod 26 = 16 \n",
      "Cipher Char = Q\n",
      "\n",
      "Plain Char = A, index = 0\n",
      "Kunci Char = S, index = 18\n",
      "Formula = (0 + 18)mod 26 = 18 \n",
      "Cipher Char = S\n",
      "\n",
      "Plain Char = F, index = 5\n",
      "Kunci Char = W, index = 22\n",
      "Formula = (5 + 22)mod 26 = 1 \n",
      "Cipher Char = B\n",
      "\n",
      "Plain Char = A, index = 0\n",
      "Kunci Char = O, index = 14\n",
      "Formula = (0 + 14)mod 26 = 14 \n",
      "Cipher Char = O\n",
      "\n",
      "Plain Char = Y, index = 24\n",
      "Kunci Char = R, index = 17\n",
      "Formula = (24 + 17)mod 26 = 15 \n",
      "Cipher Char = P\n",
      "\n",
      "Plain Char = S, index = 18\n",
      "Kunci Char = D, index = 3\n",
      "Formula = (18 + 3)mod 26 = 21 \n",
      "Cipher Char = V\n",
      "\n",
      "Plain Char = A, index = 0\n",
      "Kunci Char = P, index = 15\n",
      "Formula = (0 + 15)mod 26 = 15 \n",
      "Cipher Char = P\n",
      "\n",
      "Plain Char = Y, index = 24\n",
      "Kunci Char = A, index = 0\n",
      "Formula = (24 + 0)mod 26 = 24 \n",
      "Cipher Char = Y\n",
      "\n",
      "Plain Char = A, index = 0\n",
      "Kunci Char = S, index = 18\n",
      "Formula = (0 + 18)mod 26 = 18 \n",
      "Cipher Char = S\n",
      "\n",
      "Plain Char = T, index = 19\n",
      "Kunci Char = S, index = 18\n",
      "Formula = (19 + 18)mod 26 = 11 \n",
      "Cipher Char = L\n",
      "\n",
      "Plain Char = I, index = 8\n",
      "Kunci Char = W, index = 22\n",
      "Formula = (8 + 22)mod 26 = 4 \n",
      "Cipher Char = E\n",
      "\n",
      "Plain Char = N, index = 13\n",
      "Kunci Char = O, index = 14\n",
      "Formula = (13 + 14)mod 26 = 1 \n",
      "Cipher Char = B\n",
      "\n",
      "Plain Char = G, index = 6\n",
      "Kunci Char = R, index = 17\n",
      "Formula = (6 + 17)mod 26 = 23 \n",
      "Cipher Char = X\n",
      "\n",
      "Plain Char = G, index = 6\n",
      "Kunci Char = D, index = 3\n",
      "Formula = (6 + 3)mod 26 = 9 \n",
      "Cipher Char = J\n",
      "\n",
      "Plain Char = A, index = 0\n",
      "Kunci Char = P, index = 15\n",
      "Formula = (0 + 15)mod 26 = 15 \n",
      "Cipher Char = P\n",
      "\n",
      "Plain Char = L, index = 11\n",
      "Kunci Char = A, index = 0\n",
      "Formula = (11 + 0)mod 26 = 11 \n",
      "Cipher Char = L\n",
      "\n",
      "Plain Char = D, index = 3\n",
      "Kunci Char = S, index = 18\n",
      "Formula = (3 + 18)mod 26 = 21 \n",
      "Cipher Char = V\n",
      "\n",
      "Plain Char = I, index = 8\n",
      "Kunci Char = S, index = 18\n",
      "Formula = (8 + 18)mod 26 = 0 \n",
      "Cipher Char = A\n",
      "\n",
      "Plain Char = P, index = 15\n",
      "Kunci Char = W, index = 22\n",
      "Formula = (15 + 22)mod 26 = 11 \n",
      "Cipher Char = L\n",
      "\n",
      "Plain Char = U, index = 20\n",
      "Kunci Char = O, index = 14\n",
      "Formula = (20 + 14)mod 26 = 8 \n",
      "Cipher Char = I\n",
      "\n",
      "Plain Char = L, index = 11\n",
      "Kunci Char = R, index = 17\n",
      "Formula = (11 + 17)mod 26 = 2 \n",
      "Cipher Char = C\n",
      "\n",
      "Plain Char = O, index = 14\n",
      "Kunci Char = D, index = 3\n",
      "Formula = (14 + 3)mod 26 = 17 \n",
      "Cipher Char = R\n",
      "\n",
      "Plain Char = G, index = 6\n",
      "Kunci Char = P, index = 15\n",
      "Formula = (6 + 15)mod 26 = 21 \n",
      "Cipher Char = V\n",
      "\n",
      "Plain Char = E, index = 4\n",
      "Kunci Char = A, index = 0\n",
      "Formula = (4 + 0)mod 26 = 4 \n",
      "Cipher Char = E\n",
      "\n",
      "Plain Char = B, index = 1\n",
      "Kunci Char = S, index = 18\n",
      "Formula = (1 + 18)mod 26 = 19 \n",
      "Cipher Char = T\n",
      "\n",
      "Plain Char = A, index = 0\n",
      "Kunci Char = S, index = 18\n",
      "Formula = (0 + 18)mod 26 = 18 \n",
      "Cipher Char = S\n",
      "\n",
      "Plain Char = N, index = 13\n",
      "Kunci Char = W, index = 22\n",
      "Formula = (13 + 22)mod 26 = 9 \n",
      "Cipher Char = J\n",
      "\n",
      "Plain Char = G, index = 6\n",
      "Kunci Char = O, index = 14\n",
      "Formula = (6 + 14)mod 26 = 20 \n",
      "Cipher Char = U\n",
      "\n"
     ]
    }
   ],
   "source": [
    "cipher = []\n",
    "\n",
    "for i in range(len(clean_plain_text)):\n",
    "    plain_text_index = alphabet.index(clean_plain_text[i])\n",
    "    kunci_index = alphabet.index(kunci[i])\n",
    "    \n",
    "    result_index = (plain_text_index + kunci_index)%26\n",
    "    \n",
    "    cipher.append(alphabet[result_index])\n",
    "    \n",
    "    print(\"Plain Char = {}, index = {}\".format(clean_plain_text[i], plain_text_index))\n",
    "    print(\"Kunci Char = {}, index = {}\".format(kunci[i], kunci_index))\n",
    "    print(\"Formula = ({} + {})mod 26 = {} \".format(plain_text_index, kunci_index, result_index))\n",
    "    print(\"Cipher Char = {}\".format(alphabet[result_index]))\n",
    "    print()\n",
    "    "
   ]
  },
  {
   "cell_type": "code",
   "execution_count": 61,
   "metadata": {},
   "outputs": [
    {
     "name": "stdout",
     "output_type": "stream",
     "text": [
      "Result = WADGJODDHAQSBOPVPYSLEBXJPLVALICRVETSJU\n"
     ]
    }
   ],
   "source": [
    "cipher_text = \"\"\n",
    "for char in cipher:\n",
    "    cipher_text += char\n",
    "    \n",
    "print(\"Result = {}\".format(cipher_text))"
   ]
  },
  {
   "cell_type": "code",
   "execution_count": null,
   "metadata": {},
   "outputs": [],
   "source": []
  }
 ],
 "metadata": {
  "kernelspec": {
   "display_name": "Python 3",
   "language": "python",
   "name": "python3"
  },
  "language_info": {
   "codemirror_mode": {
    "name": "ipython",
    "version": 3
   },
   "file_extension": ".py",
   "mimetype": "text/x-python",
   "name": "python",
   "nbconvert_exporter": "python",
   "pygments_lexer": "ipython3",
   "version": "3.7.3"
  }
 },
 "nbformat": 4,
 "nbformat_minor": 2
}
